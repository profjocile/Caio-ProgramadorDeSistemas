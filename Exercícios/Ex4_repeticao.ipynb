{
  "cells": [
    {
      "cell_type": "markdown",
      "metadata": {
        "colab_type": "text",
        "id": "view-in-github"
      },
      "source": [
        "<a href=\"https://colab.research.google.com/github/osmozeInc/ProgramadorDeSistemas/blob/main/ExerciciosDeRepeticao.ipynb\" target=\"_parent\"><img src=\"https://colab.research.google.com/assets/colab-badge.svg\" alt=\"Open In Colab\"/></a>"
      ]
    },
    {
      "cell_type": "markdown",
      "metadata": {
        "id": "cf7-1OqNYKPa"
      },
      "source": [
        "# Exercícios de Repetição\n",
        "com phyton"
      ]
    },
    {
      "cell_type": "markdown",
      "metadata": {
        "id": "tquWg_2hYhWn"
      },
      "source": [
        "## Problema 1\n",
        "Escreva um programa que imprima todos os números pares de 0 a 20."
      ]
    },
    {
      "cell_type": "code",
      "execution_count": 5,
      "metadata": {
        "colab": {
          "base_uri": "https://localhost:8080/"
        },
        "id": "12G6z5HkYfYg",
        "outputId": "5817284f-d48e-44f8-d9c9-6ccb6a0974b8"
      },
      "outputs": [
        {
          "name": "stdout",
          "output_type": "stream",
          "text": [
            "0\n",
            "2\n",
            "4\n",
            "6\n",
            "8\n",
            "10\n",
            "12\n",
            "14\n",
            "16\n",
            "18\n",
            "20\n"
          ]
        }
      ],
      "source": [
        "for i in range(0, 21, 2):\n",
        "  print(i)"
      ]
    },
    {
      "cell_type": "markdown",
      "metadata": {
        "id": "BLdZ1x_mZY3h"
      },
      "source": [
        "## Problema 2\n",
        "Escreva um programa que peça ao usuário para digitar um número inteiro positivo e calcule a soma de todos os números ímpares de 1 até esse número."
      ]
    },
    {
      "cell_type": "code",
      "execution_count": 8,
      "metadata": {
        "colab": {
          "base_uri": "https://localhost:8080/"
        },
        "id": "ZrNsmspMZqow",
        "outputId": "de0c558f-b516-4b4c-cd50-902a08c9cee3"
      },
      "outputs": [
        {
          "name": "stdout",
          "output_type": "stream",
          "text": [
            "digite um número:\n",
            "7\n",
            "soma de todos os número ímpares até 7. soma = 16\n"
          ]
        }
      ],
      "source": [
        "print(\"digite um número:\")\n",
        "numeroMax = int(input())\n",
        "soma = 0\n",
        "\n",
        "for i in range(1, numeroMax + 1, 2):\n",
        "  soma += i\n",
        "print(f\"soma de todos os número ímpares até {numeroMax}. soma = {soma}\")"
      ]
    },
    {
      "cell_type": "markdown",
      "metadata": {
        "id": "6E0fc2xqbZ_e"
      },
      "source": [
        "## Problema 3\n",
        "Escreva um programa que peça ao usuário para digitar uma frase e conte quantas vogais (a, e, i, o, u) ela possui"
      ]
    },
    {
      "cell_type": "code",
      "execution_count": 11,
      "metadata": {
        "colab": {
          "base_uri": "https://localhost:8080/"
        },
        "id": "JGc3QBblbkwj",
        "outputId": "0c514614-cf1f-4eb3-f00c-d0bb45c688b1"
      },
      "outputs": [
        {
          "name": "stdout",
          "output_type": "stream",
          "text": [
            "digite uma frase: oi eu sou caio\n",
            "essa frase tem 9 vogais.\n"
          ]
        }
      ],
      "source": [
        "frase = input(\"digite uma frase: \")\n",
        "vogais = \"aeiou\"\n",
        "quantidade = 0\n",
        "\n",
        "for letra in frase:\n",
        "  if letra.lower() in vogais:\n",
        "    quantidade += 1\n",
        "\n",
        "print(f\"essa frase tem {quantidade} vogais.\")"
      ]
    },
    {
      "cell_type": "markdown",
      "metadata": {
        "id": "mYeHLtI_cpMs"
      },
      "source": [
        "## Problema 4\n",
        "Escreva um programa que peça ao usuário para digitar uma lista de números e imprima o maior número da lista.\n",
        "\n"
      ]
    },
    {
      "cell_type": "code",
      "execution_count": 33,
      "metadata": {
        "colab": {
          "base_uri": "https://localhost:8080/"
        },
        "id": "wHX3fe5zcxE0",
        "outputId": "9b6fd1f0-83af-4aba-8fa4-ed0e8543f8a5"
      },
      "outputs": [
        {
          "name": "stdout",
          "output_type": "stream",
          "text": [
            "escreva uma lista de numeros \n",
            "exemplo: 5, 6, 7, 8: \n",
            "lista: 5, 2, 20\n",
            "maior numero dessa lista é  20\n"
          ]
        }
      ],
      "source": [
        "lista = input(\"escreva uma lista de numeros \\nexemplo: 5, 6, 7, 8: \\nlista: \")\n",
        "lista = lista.split(\",\")\n",
        "maior = int(lista[0])\n",
        "\n",
        "for numero in lista:\n",
        "  if int(numero) > maior:\n",
        "    maior = numero\n",
        "print(\"maior numero dessa lista é\", maior)"
      ]
    },
    {
      "cell_type": "markdown",
      "metadata": {
        "id": "s9-w40KZiKVM"
      },
      "source": [
        "## Problema 5\n",
        "Escreva um programa que peça ao usuário para digitar uma palavra e imprima a palavra invertida.\n",
        "\n"
      ]
    },
    {
      "cell_type": "code",
      "execution_count": 4,
      "metadata": {
        "id": "31p29NTQiOoF"
      },
      "outputs": [
        {
          "name": "stdout",
          "output_type": "stream",
          "text": [
            "você digitou 'castelo', o inverso é: 'oletsac'\n"
          ]
        }
      ],
      "source": [
        "palavra = input(\"digite uma palavra: \")\n",
        "palavraInv = palavra[::-1]\n",
        "print(f\"você digitou '{palavra}', o inverso é: '{palavraInv}'\")\n",
        "\n",
        "\n",
        "#   palavra = input(\"Digite uma palavra: \")\n",
        "#   inversa = \"\"\n",
        "#   for letra in palavra:\n",
        "#       inversa = letra + inversa\n",
        "#   print(\"A palavra invertida é\", inversa)"
      ]
    },
    {
      "cell_type": "markdown",
      "metadata": {},
      "source": [
        "## Problema 6\n",
        "Escreva um programa que calcule a média aritmética de uma lista de números."
      ]
    },
    {
      "cell_type": "code",
      "execution_count": 21,
      "metadata": {},
      "outputs": [
        {
          "name": "stdout",
          "output_type": "stream",
          "text": [
            "media: 24.0\n"
          ]
        }
      ],
      "source": [
        "list = []\n",
        "while True:\n",
        "    num = input(\"lista de numeros, enter para sair\")\n",
        "    if num == \"\": break\n",
        "    else: num = float(num)\n",
        "    list.append(num)\n",
        "cont = len(list)\n",
        "print(f\"media: {(sum(list)/cont)}\")\n",
        "\n",
        "\n",
        "#    numero = float(input(\"digite um numero pra lista, e para sair digite -1 \\nnumero: \"))\n",
        "#    cont = media = 0\n",
        "#    while numero != -1:\n",
        "#        media += numero\n",
        "#        cont += 1\n",
        "#        numero = float(input(\"digite um numero pra lista, e para sair digite -1 \\nnumero: \"))\n",
        "#    media = media/cont\n",
        "#    print(\"a media é: \", media)"
      ]
    },
    {
      "cell_type": "markdown",
      "metadata": {},
      "source": [
        "## Problema 7\n",
        "Escreva um programa que peça ao usuário para digitar um número inteiro e verifique se ele é um número primo"
      ]
    },
    {
      "cell_type": "code",
      "execution_count": 35,
      "metadata": {},
      "outputs": [
        {
          "name": "stdout",
          "output_type": "stream",
          "text": [
            "não é primo\n"
          ]
        }
      ],
      "source": [
        "num = int(input(\"digite um numero: \"))\n",
        "condição = False\n",
        "\n",
        "if num > 1:\n",
        "    condição = True\n",
        "    for i in range(2, num):\n",
        "        if num % i == 0:\n",
        "            print(\"não é primo\")\n",
        "            condição = False\n",
        "            break\n",
        "else: print(\"não é primo\")\n",
        "\n",
        "if condição == True:\n",
        "    print(\"é primo\")"
      ]
    },
    {
      "cell_type": "markdown",
      "metadata": {},
      "source": [
        "## Problema 8\n",
        "Escreva um programa que peça ao usuário para digitar uma palavra e verifique se ela é um palíndromo (ou seja, se a palavra é igual quando lida de trás para frente)."
      ]
    },
    {
      "cell_type": "code",
      "execution_count": 42,
      "metadata": {},
      "outputs": [
        {
          "name": "stdout",
          "output_type": "stream",
          "text": [
            "A palavra salas é um polidromo\n"
          ]
        }
      ],
      "source": [
        "palavra = input(\"digite uma palavra: \")\n",
        "palavraInv = palavra[::-1]\n",
        "\n",
        "if palavra == palavraInv:\n",
        "    print(f\"A palavra {palavra} é um polidromo\")\n",
        "else:\n",
        "    print(f\"A palavra {palavra} não é um polidromo\")"
      ]
    }
  ],
  "metadata": {
    "colab": {
      "authorship_tag": "ABX9TyP5aIb5UfrJo4AIV5SFMFjG",
      "collapsed_sections": [
        "tquWg_2hYhWn",
        "BLdZ1x_mZY3h"
      ],
      "include_colab_link": true,
      "provenance": []
    },
    "kernelspec": {
      "display_name": "Python 3",
      "name": "python3"
    },
    "language_info": {
      "codemirror_mode": {
        "name": "ipython",
        "version": 3
      },
      "file_extension": ".py",
      "mimetype": "text/x-python",
      "name": "python",
      "nbconvert_exporter": "python",
      "pygments_lexer": "ipython3",
      "version": "3.12.3"
    }
  },
  "nbformat": 4,
  "nbformat_minor": 0
}

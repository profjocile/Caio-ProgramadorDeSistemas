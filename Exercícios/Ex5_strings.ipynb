{
 "cells": [
  {
   "cell_type": "markdown",
   "metadata": {},
   "source": [
    "# Exercícios de Stings \n",
    "python"
   ]
  },
  {
   "cell_type": "markdown",
   "metadata": {},
   "source": [
    "## Problema 1: Contagem de vogais e consoantes\n",
    "\n",
    "Escreva um programa que conta o número de vogais e consoantes em uma string.\n"
   ]
  },
  {
   "cell_type": "code",
   "execution_count": 1,
   "metadata": {},
   "outputs": [
    {
     "name": "stdout",
     "output_type": "stream",
     "text": [
      "frase: 'Água é legal '\n",
      "A frase tem 6 vogais e 4 consoantes.\n"
     ]
    }
   ],
   "source": [
    "string = input()\n",
    "string_mod = string.replace(\" \", \"\")\n",
    "string_mod = string_mod.upper()\n",
    "vogais = ['A','E','I','O','U','Á','À','Ã','É','Í','Ó','Õ']\n",
    "Qnt_vog = Qnt_con = 0\n",
    "for letra in string_mod:\n",
    "    if letra in vogais:\n",
    "        Qnt_vog += 1\n",
    "    else:\n",
    "        Qnt_con += 1\n",
    "print(f\"frase: '{string}'\")\n",
    "print(f\"A frase tem {Qnt_vog} vogais e {Qnt_con} consoantes.\")"
   ]
  },
  {
   "cell_type": "markdown",
   "metadata": {},
   "source": [
    "## Problema 2: Verificar palíndromo\n",
    "\n",
    "Escreva um programa que verifica se uma string é um palíndromo.\n"
   ]
  },
  {
   "cell_type": "code",
   "execution_count": 11,
   "metadata": {},
   "outputs": [
    {
     "name": "stdout",
     "output_type": "stream",
     "text": [
      "a palavra: oi não é um políndromo.\n"
     ]
    }
   ],
   "source": [
    "palavra = input(\"Escreva um palíndromo: \")\n",
    "polindromo = ''.join(reversed(palavra))\n",
    "\n",
    "if palavra == polindromo:\n",
    "    print(\"a palavra: {} é um políndromo.\".format(palavra))\n",
    "else:\n",
    "    print(\"a palavra: %s não é um políndromo.\" % palavra)"
   ]
  },
  {
   "cell_type": "markdown",
   "metadata": {},
   "source": [
    "\n",
    "## Problema 3: Contar palavras em uma frase\n",
    "\n",
    "Escreva um programa que conta o número de palavras em uma frase.\n"
   ]
  },
  {
   "cell_type": "code",
   "execution_count": 29,
   "metadata": {},
   "outputs": [
    {
     "name": "stdout",
     "output_type": "stream",
     "text": [
      "existem 4 palavras na frase: 'oi eu sou caio'\n"
     ]
    }
   ],
   "source": [
    "palavra = input(\"Digite uma frase: \")\n",
    "palavra = palavra.strip()\n",
    "cont = 1\n",
    "\n",
    "while \"  \" in palavra:\n",
    "    palavra = palavra.replace(\"  \", \" \")\n",
    "\n",
    "for char in palavra:\n",
    "    if char == \" \":\n",
    "        cont += 1\n",
    "\n",
    "print(\"existem {} palavras na frase: '{}'\".format(cont, palavra))"
   ]
  },
  {
   "cell_type": "markdown",
   "metadata": {},
   "source": [
    "## Problema 4: Inverter ordem das palavras\n",
    "\n",
    "Escreva um programa que inverte a ordem das palavras em uma frase."
   ]
  },
  {
   "cell_type": "code",
   "execution_count": 41,
   "metadata": {},
   "outputs": [
    {
     "name": "stdout",
     "output_type": "stream",
     "text": [
      "ordem de fora frase uma \n"
     ]
    }
   ],
   "source": [
    "phrase = input(\"Digite uma frase: \")\n",
    "phrase = phrase.split()\n",
    "reverse = \"\"\n",
    "\n",
    "for word in phrase[::-1]:\n",
    "    reverse += word + \" \"\n",
    "    \n",
    "print(reverse)"
   ]
  },
  {
   "cell_type": "markdown",
   "metadata": {},
   "source": [
    "## Problema 5: Capitalizar primeira letra de cada palavra\n",
    "\n",
    "Escreva um programa que capitalize a primeira letra de cada palavra em uma frase."
   ]
  },
  {
   "cell_type": "code",
   "execution_count": 43,
   "metadata": {},
   "outputs": [
    {
     "name": "stdout",
     "output_type": "stream",
     "text": [
      "Essa Frase Está Capitalizada\n"
     ]
    }
   ],
   "source": [
    "phrase = input(\"Digite uma frase: \")\n",
    "phrase = phrase.title()\n",
    "print(phrase)"
   ]
  }
 ],
 "metadata": {
  "kernelspec": {
   "display_name": "Python 3",
   "language": "python",
   "name": "python3"
  },
  "language_info": {
   "codemirror_mode": {
    "name": "ipython",
    "version": 3
   },
   "file_extension": ".py",
   "mimetype": "text/x-python",
   "name": "python",
   "nbconvert_exporter": "python",
   "pygments_lexer": "ipython3",
   "version": "3.12.3"
  }
 },
 "nbformat": 4,
 "nbformat_minor": 2
}

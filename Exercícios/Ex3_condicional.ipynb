{
 "cells": [
  {
   "cell_type": "markdown",
   "metadata": {},
   "source": [
    "# Exercícios de Condicional\n",
    "python"
   ]
  },
  {
   "cell_type": "markdown",
   "metadata": {},
   "source": [
    "## Problema 1\n",
    "Escreva um programa que peça ao usuário para digitar a sua idade e informe se ele é maior ou menor de idade."
   ]
  },
  {
   "cell_type": "code",
   "execution_count": 28,
   "metadata": {},
   "outputs": [
    {
     "name": "stdout",
     "output_type": "stream",
     "text": [
      "Você é maior de idade\n"
     ]
    }
   ],
   "source": [
    "age = int(input(\"Digite sua idade: \"))\n",
    "\n",
    "if age >= 18:\n",
    "    print(\"Você é maior de idade\")\n",
    "else: \n",
    "    print(\"Você é menor de idade\")"
   ]
  },
  {
   "cell_type": "markdown",
   "metadata": {},
   "source": [
    "## Problema 2\n",
    "Escreva um programa que peça ao usuário para digitar dois números e informe qual é o maior."
   ]
  },
  {
   "cell_type": "code",
   "execution_count": 29,
   "metadata": {},
   "outputs": [
    {
     "name": "stdout",
     "output_type": "stream",
     "text": [
      "O maior é: 7\n"
     ]
    }
   ],
   "source": [
    "num1 = int(input(\"Digite um numero: \"))\n",
    "num2 = int(input(\"Digite outro numero: \"))\n",
    "\n",
    "if num1 > num2:\n",
    "    print(\"O maior é: {}\".format(num1))\n",
    "else:\n",
    "    print(\"O maior é: {}\".format(num2))"
   ]
  },
  {
   "cell_type": "markdown",
   "metadata": {},
   "source": [
    "## Problema 3\n",
    "Escreva um programa que peça ao usuário para digitar uma letra e informe se ela é uma vogal ou uma consoante."
   ]
  },
  {
   "cell_type": "code",
   "execution_count": 32,
   "metadata": {},
   "outputs": [
    {
     "name": "stdout",
     "output_type": "stream",
     "text": [
      "É uma consoante\n"
     ]
    }
   ],
   "source": [
    "letter = input(\"Digite uma letra: \")\n",
    "vowels = ('A', 'E', 'I', 'O', 'U')\n",
    "\n",
    "if letter.upper() in vowels: print(\"É uma vogal\")\n",
    "else: print(\"É uma consoante\")"
   ]
  },
  {
   "cell_type": "markdown",
   "metadata": {},
   "source": [
    "## Problema 4\n",
    "Escreva um programa que peça ao usuário para digitar um número e informe se ele é positivo, negativo ou zero."
   ]
  },
  {
   "cell_type": "code",
   "execution_count": 33,
   "metadata": {},
   "outputs": [
    {
     "name": "stdout",
     "output_type": "stream",
     "text": [
      "O numero é negativo\n"
     ]
    }
   ],
   "source": [
    "num = int(input(\"Digite um numero: \"))\n",
    "\n",
    "if num > 0: print(\"O numero é positivo\")\n",
    "elif num < 0: print(\"O numero é negativo\")\n",
    "else: print(\"O numero é zero\")"
   ]
  },
  {
   "cell_type": "markdown",
   "metadata": {},
   "source": [
    "## Problema 5\n",
    "Escreva um programa que peça ao usuário para digitar o seu salário e informe qual é o seu imposto de renda de acordo com a tabela abaixo:\n",
    "````\n",
    "Até R$ 1.903,98: isento\n",
    "De R$ 1.903,99 até R$ 2.826,65: 7,5%\n",
    "De R$ 2.826,66 até R$ 3.751,05: 15%\n",
    "De R$ 3.751,06 até R$ 4.664,68: 22,5%\n",
    "Acima de R$ 4.664,68: 27,5%\n",
    "````"
   ]
  },
  {
   "cell_type": "code",
   "execution_count": null,
   "metadata": {},
   "outputs": [
    {
     "name": "stdout",
     "output_type": "stream",
     "text": [
      "Imposto é: R$ 7.20\n"
     ]
    }
   ],
   "source": [
    "salary = float(input(\"Digite seu salário: \"))\n",
    "tax = 0\n",
    "\n",
    "if salary > 4664.68:\n",
    "    tax = (0.275 * (salary - 4664.68)) + (0.225 * 913.62) + (0.15 * 924.39) + (0.075 * 922.66)\n",
    "elif salary < 4664.69 and salary > 3751.05:\n",
    "    tax = (0.225 * (salary - 3751.05)) + (0.15 * 924.39) + (0.075 * 922.66)\n",
    "elif salary < 3751.06 and salary > 2825.65:\n",
    "    tax = (0.15 * (salary - 2826.65)) + (0.075 * 922.66)\n",
    "elif salary < 2826.66 and salary > 1903.98:\n",
    "    tax = (0.075 * (salary - 1903.98))\n",
    "    \n",
    "if tax > 0:\n",
    "    print(f\"Imposto é: R$ {tax:.2f}\")\n",
    "else: \n",
    "    print(f\"Isento do imposto\")"
   ]
  },
  {
   "cell_type": "markdown",
   "metadata": {},
   "source": [
    "## Problema 6 \n",
    "Escreva um programa que peça ao usuário para digitar a sua altura e o seu peso e informe se ele está abaixo do peso, no peso ideal ou acima do peso. Para isso, utilize o índice de massa corporal (IMC), que é calculado pela fórmula:\n",
    "Para homens: peso ideal = (72.7 x altura) - 58\n",
    "Para mulheres: peso ideal = (62.1 x altura) - 44.7\n"
   ]
  },
  {
   "cell_type": "code",
   "execution_count": null,
   "metadata": {},
   "outputs": [
    {
     "name": "stdout",
     "output_type": "stream",
     "text": [
      "seu peso ideal é: 48.5\n"
     ]
    }
   ],
   "source": [
    "height = float(input(\"Digite sua altura em metros: \"))\n",
    "while True:\n",
    "    genner = input(\"Digite seu gênero, 'M' para masculino e 'F' para feminino: \")\n",
    "    if genner.upper() == 'M':\n",
    "        print(f\"seu peso ideal é: {((72.7 * height) - 58):.1f}\") \n",
    "        break\n",
    "    if genner.upper() == 'F':\n",
    "        print(f\"seu peso ideal é: {((62.1 * height) - 44.7):.1f}\")\n",
    "        break\n",
    "    else: print(\"Gênero invalido!\")"
   ]
  }
 ],
 "metadata": {
  "kernelspec": {
   "display_name": "Python 3",
   "language": "python",
   "name": "python3"
  },
  "language_info": {
   "codemirror_mode": {
    "name": "ipython",
    "version": 3
   },
   "file_extension": ".py",
   "mimetype": "text/x-python",
   "name": "python",
   "nbconvert_exporter": "python",
   "pygments_lexer": "ipython3",
   "version": "3.12.3"
  }
 },
 "nbformat": 4,
 "nbformat_minor": 2
}

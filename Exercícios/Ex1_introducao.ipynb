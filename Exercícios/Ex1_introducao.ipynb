{
  "cells": [
    {
      "cell_type": "markdown",
      "metadata": {
        "colab_type": "text",
        "id": "view-in-github"
      },
      "source": [
        "<a href=\"https://colab.research.google.com/github/osmozeInc/ProgramadorDeSistemas/blob/main/INF0018_1_Introducao_Python.ipynb\" target=\"_parent\"><img src=\"https://colab.research.google.com/assets/colab-badge.svg\" alt=\"Open In Colab\"/></a>"
      ]
    },
    {
      "cell_type": "markdown",
      "metadata": {
        "id": "3B9Sx2cIF9-r"
      },
      "source": [
        "# Programa em Python"
      ]
    },
    {
      "cell_type": "markdown",
      "metadata": {
        "id": "lWXMIteVMctr"
      },
      "source": [
        "### Problema: construir um sistema de informação.  \n",
        "declare as variáveis para o algoritmo de cadastramento de alunos, cujos dados são:\n",
        ">nome  \n",
        ">sexo  \n",
        ">endereço  \n",
        ">cidade  \n",
        ">estado  \n",
        ">CEP  \n",
        ">telefone  \n",
        ">data de nascimento  \n",
        ">RG  \n",
        ">nome do pai  \n",
        ">nome da mãe  \n",
        ">grau de escolaridade.  \n",
        "\n",
        "Utilize pseudocódigo para representar as declarações  \n",
        "\n",
        "<br>\n",
        "\n",
        "Classificação dos dados segundo os tipos das variáveis (numéricos, literais ou lógicos) que irão armazená-los\n",
        ">Variáveis literais:\tnome do aluno, sexo, endereço, cidade, estado,\tnome do pai, nome da mãe.  \n",
        ">Variáveis numéricas:\ttelefone, CEP, RG, data de nascimento, grau de \tescolaridade.\n",
        "\n",
        "\n"
      ]
    },
    {
      "cell_type": "code",
      "execution_count": 13,
      "metadata": {
        "colab": {
          "base_uri": "https://localhost:8080/"
        },
        "id": "Tya2sbbvMo1L",
        "outputId": "5e64a93b-647f-4f21-9aef-dc2a517a7f5f"
      },
      "outputs": [
        {
          "name": "stdout",
          "output_type": "stream",
          "text": [
            "Nome: caio\n",
            "Sexo: m\n",
            "Endereço: rua tal\n",
            "Cidade: sobra\n",
            "Estado: ce\n",
            "CEP: 456\n",
            "telefone: 876\n",
            "data de nascimento: 55\n",
            "RG: 5\n",
            "Pai: 5\n",
            "Mãe5\n",
            "Escolaridade: 5\n",
            "caio m rua tal sobra ce 456 876 55 5 5 5 5\n"
          ]
        }
      ],
      "source": [
        "NOME = input(\"Nome: \")\n",
        "SEXO = input(\"Sexo: \")\n",
        "ENDEREÇO = input(\"Endereço: \")\n",
        "CIDADE = input(\"Cidade: \")\n",
        "ESTADO = input(\"Estado: \")\n",
        "CEP = input(\"CEP: \")\n",
        "TELEFONE = input(\"telefone: 5\")\n",
        "DATA_DE_NASCIMENTO = input(\"data de nascimento: \")\n",
        "RG = input(\"RG: \")\n",
        "NOME_DO_PAI = input(\"Pai: \")\n",
        "NOME_DA_MAE = input(\"Mãe: \")\n",
        "ESCOLARIDADE = input(\"Escolaridade: \")\n",
        "\n",
        "print(NOME, SEXO, ENDEREÇO, CIDADE, ESTADO, CEP, TELEFONE, DATA_DE_NASCIMENTO, RG, NOME_DO_PAI, NOME_DA_MAE, ESCOLARIDADE)"
      ]
    },
    {
      "cell_type": "markdown",
      "metadata": {
        "id": "BeN0TQCmdzjL"
      },
      "source": [
        "### Problema: Resolvendo expressões aritméticas\n",
        "\n",
        "sendo X, Z, Y e W variáveis numéricas, qual o resultado de cada variável no final do algoritmo?\n",
        "\n",
        "x <- 10"
      ]
    },
    {
      "cell_type": "code",
      "execution_count": 36,
      "metadata": {
        "colab": {
          "base_uri": "https://localhost:8080/"
        },
        "id": "aryfkOEvdt3H",
        "outputId": "cc0b8d01-6571-4782-8998-e868258637b3"
      },
      "outputs": [
        {
          "name": "stdout",
          "output_type": "stream",
          "text": [
            "X =  10\n",
            "Z =  11\n",
            "Y =  -10.0\n",
            "W =  0.0\n"
          ]
        }
      ],
      "source": [
        "X = 10\n",
        "Z = (X + ((X ** 2) % (X // 3)))\n",
        "Y = (X - ((X ** 2) / 5))\n",
        "W = ((Z - 64 ** (1/2)) // 10)\n",
        "\n",
        "print(\"X = \", X)\n",
        "print(\"Z = \", Z)\n",
        "print(\"Y = \", Y)\n",
        "print(\"W = \", W)"
      ]
    },
    {
      "cell_type": "markdown",
      "metadata": {
        "id": "TxbpBIAgo413"
      },
      "source": [
        "### Problema: Resolvendo expressões relacionadas\n",
        "\n",
        "Sendo X, Y, Z variáveis numéricas e W, T variáveis lógicas, qual o valor de cada variável no final do algoritmo?\n",
        "\n",
        "```\n",
        "X, Z, Y: numérico\n",
        "W, T: lógico\n",
        "X ← 5\n",
        "Z ← ((X + 4) / 3)\n",
        "Y ← ((X + 4) ^ (1/2))\n",
        "W ← (X >= Z)\n",
        "T ← (Z <> Y)\n",
        "```"
      ]
    },
    {
      "cell_type": "code",
      "execution_count": 39,
      "metadata": {
        "colab": {
          "base_uri": "https://localhost:8080/"
        },
        "id": "ZD6OT_lvqZYN",
        "outputId": "fca91396-13ef-4968-8ffa-92d1d5dad093"
      },
      "outputs": [
        {
          "name": "stdout",
          "output_type": "stream",
          "text": [
            "X =  5\n",
            "Z =  3.0\n",
            "Y =  3.0\n",
            "W =  True\n",
            "T =  False\n"
          ]
        }
      ],
      "source": [
        "X = 5\n",
        "Z = ((X + 4) / 3)\n",
        "Y = ((X + 4) ** (0.5))\n",
        "W = (X >= Z)\n",
        "T = (Z != Y)\n",
        "\n",
        "print(\"X = \", X)\n",
        "print(\"Z = \", Z)\n",
        "print(\"Y = \", Y)\n",
        "print(\"W = \", W)\n",
        "print(\"T = \", T)"
      ]
    },
    {
      "cell_type": "markdown",
      "metadata": {
        "id": "PzVskZvdtpMx"
      },
      "source": [
        "### Problema: Resolvendo diferentes tipos de expressões\n",
        "\n",
        "Sendo X e Y variáveis numéricas, Z e W variáveis literais e T e K variá­veis lógicas, qual o resultado de cada variável no final do algoritmo?\n",
        "\n",
        "\t\t\tX ← 3\n",
        "\t\t\tY ← X ↑ 2\n",
        "\t\t\tZ ← “Abaca”\n",
        "\t\t\tW ← Z + “xi”\n",
        "\t\t\tT ← (X <= Y) e (não (Z + “te” <> W))\n",
        "\t\t\tK ← não (T e  (“Abaca” = Z))"
      ]
    },
    {
      "cell_type": "code",
      "execution_count": 42,
      "metadata": {
        "colab": {
          "base_uri": "https://localhost:8080/"
        },
        "id": "wHS555P7toLV",
        "outputId": "0a0c1e0e-9d17-4fa1-c9aa-571c80a7de44"
      },
      "outputs": [
        {
          "name": "stdout",
          "output_type": "stream",
          "text": [
            "X =  3\n",
            "Y =  9\n",
            "Z =  abaca\n",
            "W =  abacaxi\n",
            "T =  True\n",
            "K =  [\"/bin/bash: -c: line 1: syntax error near unexpected token `('\", '/bin/bash: -c: line 1: `(T and (\"abaca\" == Z))\\'']\n"
          ]
        }
      ],
      "source": [
        "X = 3\n",
        "Y = X ** 2\n",
        "Z = \"abaca\"\n",
        "W = Z + \"xi\"\n",
        "T = (X <= Y) and (Z + \"te\" != W)\n",
        "K = !(T and (\"abaca\" == Z))\n",
        "\n",
        "\n",
        "print(\"X = \", X)\n",
        "print(\"Y = \", Y)\n",
        "print(\"Z = \", Z)\n",
        "print(\"W = \", W)\n",
        "print(\"T = \", T)\n",
        "print(\"K = \", K)"
      ]
    }
  ],
  "metadata": {
    "colab": {
      "include_colab_link": true,
      "name": "INF0018_1_Introducao_Python.ipynb",
      "provenance": []
    },
    "kernelspec": {
      "display_name": "Python 3",
      "name": "python3"
    }
  },
  "nbformat": 4,
  "nbformat_minor": 0
}
